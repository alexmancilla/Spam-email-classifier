{
  "nbformat": 4,
  "nbformat_minor": 0,
  "metadata": {
    "colab": {
      "provenance": [],
      "authorship_tag": "ABX9TyNChJL6XfG/AfVq6XYTZvh4",
      "include_colab_link": true
    },
    "kernelspec": {
      "name": "python3",
      "display_name": "Python 3"
    },
    "language_info": {
      "name": "python"
    }
  },
  "cells": [
    {
      "cell_type": "markdown",
      "metadata": {
        "id": "view-in-github",
        "colab_type": "text"
      },
      "source": [
        "<a href=\"https://colab.research.google.com/github/alexmancilla/Spam-email-classifier/blob/main/Spam_email_classifier%09.ipynb\" target=\"_parent\"><img src=\"https://colab.research.google.com/assets/colab-badge.svg\" alt=\"Open In Colab\"/></a>"
      ]
    },
    {
      "cell_type": "markdown",
      "source": [
        "#Cargando los datos\n"
      ],
      "metadata": {
        "id": "Qh0KC1REs3r8"
      }
    },
    {
      "cell_type": "code",
      "execution_count": null,
      "metadata": {
        "id": "zANODEbo9B0H"
      },
      "outputs": [],
      "source": [
        "import os\n",
        "import tarfile\n",
        "import urllib.request"
      ]
    },
    {
      "cell_type": "code",
      "source": [
        "import os\n",
        "\n",
        "# Definir la URL base de descarga de los datos\n",
        "DOWNLOAD_ROOT = \"http://spamassassin.apache.org/old/publiccorpus/\"\n",
        "\n",
        "# Definir la URL completa para descargar el archivo de mensajes de correo no deseado legítimos (ham)\n",
        "HAM_URL = DOWNLOAD_ROOT + \"20030228_easy_ham.tar.bz2\"\n",
        "\n",
        "# Definir la URL completa para descargar el archivo de mensajes de correo no deseado (spam)\n",
        "SPAM_URL = DOWNLOAD_ROOT + \"20030228_spam.tar.bz2\"\n",
        "\n",
        "# Definir la ruta completa al directorio donde se almacenarán los datos descargados\n",
        "SPAM_PATH = os.path.join(\"datasets\", \"spam\")\n"
      ],
      "metadata": {
        "id": "HHFuuuQX95vj"
      },
      "execution_count": null,
      "outputs": []
    },
    {
      "cell_type": "code",
      "source": [
        "# Descargar y descomprimir archivos de spam en un directorio específico\n",
        "def fetch_spam_data(ham_url=HAM_URL, spam_url=SPAM_URL, spam_path=SPAM_PATH):\n",
        "    # Comprueba si el directorio spam_path no existe y, de ser así, lo crea\n",
        "    if not os.path.isdir(spam_path):\n",
        "        os.makedirs(spam_path)\n",
        "\n",
        "    # Itera sobre los archivos y las URL correspondientes\n",
        "    for filename, url in ((\"ham.tar.bz2\", ham_url), (\"spam.tar.bz2\", spam_url)):\n",
        "        # Obtiene la ruta completa del archivo en el directorio spam_path\n",
        "        path = os.path.join(spam_path, filename)\n",
        "\n",
        "        # Si el archivo no existe en la ruta, lo descarga desde la URL\n",
        "        if not os.path.isfile(path):\n",
        "            urllib.request.urlretrieve(url, path)\n",
        "\n",
        "        # Abre el archivo tar.bz2 y extrae su contenido en el directorio spam_path\n",
        "        tar_bz2_file = tarfile.open(path)\n",
        "        tar_bz2_file.extractall(path=spam_path)\n",
        "        tar_bz2_file.close()\n"
      ],
      "metadata": {
        "id": "e8jX9By-99Vt"
      },
      "execution_count": null,
      "outputs": []
    },
    {
      "cell_type": "code",
      "source": [
        "fetch_spam_data()"
      ],
      "metadata": {
        "id": "PLq8PeAM-AFu"
      },
      "execution_count": null,
      "outputs": []
    },
    {
      "cell_type": "markdown",
      "source": [
        "#Carga de los emails"
      ],
      "metadata": {
        "id": "MM2LdZfz-GT7"
      }
    },
    {
      "cell_type": "code",
      "source": [
        "HAM_DIR = os.path.join(SPAM_PATH, \"easy_ham\")  # Ruta completa al directorio \"easy_ham\" dentro de SPAM_PATH\n",
        "SPAM_DIR = os.path.join(SPAM_PATH, \"spam\")  # Ruta completa al directorio \"spam\" dentro de SPAM_PATH\n",
        "\n",
        "# Obtener los nombres de archivo en HAM_DIR que tienen una longitud mayor a 20 caracteres\n",
        "ham_filenames = [name for name in sorted(os.listdir(HAM_DIR)) if len(name) > 20]\n",
        "\n",
        "# Obtener los nombres de archivo en SPAM_DIR que tienen una longitud mayor a 20 caracteres\n",
        "spam_filenames = [name for name in sorted(os.listdir(SPAM_DIR)) if len(name) > 20]\n"
      ],
      "metadata": {
        "id": "dRFErDv3-Jrf"
      },
      "execution_count": null,
      "outputs": []
    },
    {
      "cell_type": "code",
      "source": [
        "len(ham_filenames)"
      ],
      "metadata": {
        "colab": {
          "base_uri": "https://localhost:8080/"
        },
        "id": "pjH7kiKM-Vd8",
        "outputId": "efc825d1-ce88-4e9f-a047-318f1d79572a"
      },
      "execution_count": null,
      "outputs": [
        {
          "output_type": "execute_result",
          "data": {
            "text/plain": [
              "2500"
            ]
          },
          "metadata": {},
          "execution_count": 6
        }
      ]
    },
    {
      "cell_type": "code",
      "source": [
        "len(spam_filenames)"
      ],
      "metadata": {
        "colab": {
          "base_uri": "https://localhost:8080/"
        },
        "id": "J6ZgeUrq-YlM",
        "outputId": "4790ad52-3b24-455d-df7b-d1ecca155aca"
      },
      "execution_count": null,
      "outputs": [
        {
          "output_type": "execute_result",
          "data": {
            "text/plain": [
              "500"
            ]
          },
          "metadata": {},
          "execution_count": 7
        }
      ]
    },
    {
      "cell_type": "markdown",
      "source": [
        "#Parsing email"
      ],
      "metadata": {
        "id": "lUCqfr9JxHQl"
      }
    },
    {
      "cell_type": "markdown",
      "source": [
        "Podemos utilizar el módulo `email` de Python para analizar estos correos electrónicos (se encarga de las cabeceras, la codificación, etc.):\n",
        "\n"
      ],
      "metadata": {
        "id": "kxos-ueo-cHv"
      }
    },
    {
      "cell_type": "code",
      "source": [
        "import email\n",
        "import email.policy"
      ],
      "metadata": {
        "id": "PCd-Nffv-c7T"
      },
      "execution_count": null,
      "outputs": []
    },
    {
      "cell_type": "code",
      "source": [
        "def load_email(is_spam, filename, spam_path=SPAM_PATH):\n",
        "    # Determina el directorio en función de si el correo es spam o no\n",
        "    directory = \"spam\" if is_spam else \"easy_ham\"\n",
        "\n",
        "    # Abre el archivo de correo electrónico en modo de lectura binaria\n",
        "    with open(os.path.join(spam_path, directory, filename), \"rb\") as f:\n",
        "        # Utiliza BytesParser para analizar el contenido del archivo de correo electrónico\n",
        "        return email.parser.BytesParser(policy=email.policy.default).parse(f)\n"
      ],
      "metadata": {
        "id": "xymgkGaX-gTL"
      },
      "execution_count": null,
      "outputs": []
    },
    {
      "cell_type": "code",
      "source": [
        "\"\"\"\n",
        "Carga y distribución de los correos electrónicos no spam (ham)\n",
        "y los correos electrónicos spam utilizando la función load_email().\n",
        "Los resultados se almacenan en las listas ham_emails y spam_emails.\n",
        "\"\"\"\n",
        "ham_emails = [load_email(is_spam=False, filename=name) for name in ham_filenames]\n",
        "spam_emails = [load_email(is_spam=True, filename=name) for name in spam_filenames]"
      ],
      "metadata": {
        "id": "gdcx4dQ6-iaW"
      },
      "execution_count": null,
      "outputs": []
    },
    {
      "cell_type": "markdown",
      "source": [
        "##Ejemplo no spam"
      ],
      "metadata": {
        "id": "3l9eUv2zyB6v"
      }
    },
    {
      "cell_type": "markdown",
      "source": [
        "Veamos un ejemplo de no spam y otro de spam, para hacernos una idea de cómo son los datos:"
      ],
      "metadata": {
        "id": "8qvSa3mk-mQc"
      }
    },
    {
      "cell_type": "code",
      "source": [
        "\"\"\"Imprime el contenido del segundo correo electrónico en la lista ham_emails\n",
        "después de eliminar los espacios en blanco iniciales y finales.\"\"\"\n",
        "print(ham_emails[1].get_content().strip())"
      ],
      "metadata": {
        "colab": {
          "base_uri": "https://localhost:8080/"
        },
        "id": "o3L_xeMi-nOa",
        "outputId": "a7639e65-79e8-471e-c71c-36ed15e70bcb"
      },
      "execution_count": null,
      "outputs": [
        {
          "output_type": "stream",
          "name": "stdout",
          "text": [
            "Martin A posted:\n",
            "Tassos Papadopoulos, the Greek sculptor behind the plan, judged that the\n",
            " limestone of Mount Kerdylio, 70 miles east of Salonika and not far from the\n",
            " Mount Athos monastic community, was ideal for the patriotic sculpture. \n",
            " \n",
            " As well as Alexander's granite features, 240 ft high and 170 ft wide, a\n",
            " museum, a restored amphitheatre and car park for admiring crowds are\n",
            "planned\n",
            "---------------------\n",
            "So is this mountain limestone or granite?\n",
            "If it's limestone, it'll weather pretty fast.\n",
            "\n",
            "------------------------ Yahoo! Groups Sponsor ---------------------~-->\n",
            "4 DVDs Free +s&p Join Now\n",
            "http://us.click.yahoo.com/pt6YBB/NXiEAA/mG3HAA/7gSolB/TM\n",
            "---------------------------------------------------------------------~->\n",
            "\n",
            "To unsubscribe from this group, send an email to:\n",
            "forteana-unsubscribe@egroups.com\n",
            "\n",
            " \n",
            "\n",
            "Your use of Yahoo! Groups is subject to http://docs.yahoo.com/info/terms/\n"
          ]
        }
      ]
    },
    {
      "cell_type": "markdown",
      "source": [
        "##Ejemplo spam"
      ],
      "metadata": {
        "id": "H9C6XHggyHpZ"
      }
    },
    {
      "cell_type": "code",
      "source": [
        "print(spam_emails[6].get_content().strip())"
      ],
      "metadata": {
        "colab": {
          "base_uri": "https://localhost:8080/"
        },
        "id": "fBlYTyaa-rxS",
        "outputId": "177d1c70-06c9-4609-b177-7ac2063e3add"
      },
      "execution_count": null,
      "outputs": [
        {
          "output_type": "stream",
          "name": "stdout",
          "text": [
            "Help wanted.  We are a 14 year old fortune 500 company, that is\n",
            "growing at a tremendous rate.  We are looking for individuals who\n",
            "want to work from home.\n",
            "\n",
            "This is an opportunity to make an excellent income.  No experience\n",
            "is required.  We will train you.\n",
            "\n",
            "So if you are looking to be employed from home with a career that has\n",
            "vast opportunities, then go:\n",
            "\n",
            "http://www.basetel.com/wealthnow\n",
            "\n",
            "We are looking for energetic and self motivated people.  If that is you\n",
            "than click on the link and fill out the form, and one of our\n",
            "employement specialist will contact you.\n",
            "\n",
            "To be removed from our link simple go to:\n",
            "\n",
            "http://www.basetel.com/remove.html\n",
            "\n",
            "\n",
            "4139vOLW7-758DoDY1425FRhM1-764SMFc8513fCsLl40\n"
          ]
        }
      ]
    },
    {
      "cell_type": "markdown",
      "source": [
        "##Multiparts email"
      ],
      "metadata": {
        "id": "VQT1MG6FyM6Z"
      }
    },
    {
      "cell_type": "markdown",
      "source": [
        "Algunos correos electrónicos son en realidad multiparte, con imágenes y archivos adjuntos (que pueden tener sus propios datos adjuntos). Veamos los distintos tipos de estructuras que tenemos:"
      ],
      "metadata": {
        "id": "d6aQd1aq-wFX"
      }
    },
    {
      "cell_type": "code",
      "source": [
        "def get_email_structure(email):\n",
        "    # Verifica si el argumento 'email' es una cadena de texto (correo sin estructura)\n",
        "    if isinstance(email, str):\n",
        "        return email\n",
        "\n",
        "    # Obtiene el contenido del correo electrónico\n",
        "    payload = email.get_payload()\n",
        "\n",
        "    # Verifica si el contenido del correo es una lista (correo multipart)\n",
        "    if isinstance(payload, list):\n",
        "        # Construye una representación de cadena para correo multipart\n",
        "        return \"multipart({})\".format(\", \".join([\n",
        "            get_email_structure(sub_email)\n",
        "            for sub_email in payload\n",
        "        ]))\n",
        "    else:\n",
        "        # Retorna el tipo de contenido del correo (por ejemplo, text/plain, text/html)\n",
        "        return email.get_content_type()\n"
      ],
      "metadata": {
        "id": "HKCnpY0r-u-Q"
      },
      "execution_count": null,
      "outputs": []
    },
    {
      "cell_type": "code",
      "source": [
        "from collections import Counter\n",
        "\n",
        "def structures_counter(emails):\n",
        "    # Crea un objeto Counter para contar las estructuras de correo\n",
        "    structures = Counter()\n",
        "\n",
        "    # Itera sobre cada correo electrónico en la lista 'emails'\n",
        "    for email in emails:\n",
        "        # Obtiene la estructura del correo electrónico utilizando la función 'get_email_structure'\n",
        "        structure = get_email_structure(email)\n",
        "\n",
        "        # Incrementa el contador para la estructura correspondiente\n",
        "        structures[structure] += 1\n",
        "\n",
        "    # Retorna el objeto Counter con las estructuras de correo contadas\n",
        "    return structures\n"
      ],
      "metadata": {
        "id": "FaXFQRYI-4T6"
      },
      "execution_count": null,
      "outputs": []
    },
    {
      "cell_type": "markdown",
      "source": [
        "##Estructura no spam"
      ],
      "metadata": {
        "id": "1UwShTnq0kzQ"
      }
    },
    {
      "cell_type": "code",
      "source": [
        "structures_counter(ham_emails).most_common()"
      ],
      "metadata": {
        "colab": {
          "base_uri": "https://localhost:8080/"
        },
        "id": "6sdaKIlA--DF",
        "outputId": "a0abdf5f-a44f-418b-867e-e87a27f1955a"
      },
      "execution_count": null,
      "outputs": [
        {
          "output_type": "execute_result",
          "data": {
            "text/plain": [
              "[('text/plain', 2408),\n",
              " ('multipart(text/plain, application/pgp-signature)', 66),\n",
              " ('multipart(text/plain, text/html)', 8),\n",
              " ('multipart(text/plain, text/plain)', 4),\n",
              " ('multipart(text/plain)', 3),\n",
              " ('multipart(text/plain, application/octet-stream)', 2),\n",
              " ('multipart(text/plain, text/enriched)', 1),\n",
              " ('multipart(text/plain, application/ms-tnef, text/plain)', 1),\n",
              " ('multipart(multipart(text/plain, text/plain, text/plain), application/pgp-signature)',\n",
              "  1),\n",
              " ('multipart(text/plain, video/mng)', 1),\n",
              " ('multipart(text/plain, multipart(text/plain))', 1),\n",
              " ('multipart(text/plain, application/x-pkcs7-signature)', 1),\n",
              " ('multipart(text/plain, multipart(text/plain, text/plain), text/rfc822-headers)',\n",
              "  1),\n",
              " ('multipart(text/plain, multipart(text/plain, text/plain), multipart(multipart(text/plain, application/x-pkcs7-signature)))',\n",
              "  1),\n",
              " ('multipart(text/plain, application/x-java-applet)', 1)]"
            ]
          },
          "metadata": {},
          "execution_count": 57
        }
      ]
    },
    {
      "cell_type": "markdown",
      "source": [
        "##Estructura SPAM"
      ],
      "metadata": {
        "id": "lBL56kyv0ogu"
      }
    },
    {
      "cell_type": "code",
      "source": [
        "structures_counter(spam_emails).most_common()"
      ],
      "metadata": {
        "colab": {
          "base_uri": "https://localhost:8080/"
        },
        "id": "0_ocZgCe_31P",
        "outputId": "4ffc4f1c-a94e-4669-bf09-e11dc0329624"
      },
      "execution_count": null,
      "outputs": [
        {
          "output_type": "execute_result",
          "data": {
            "text/plain": [
              "[('text/plain', 218),\n",
              " ('text/html', 183),\n",
              " ('multipart(text/plain, text/html)', 45),\n",
              " ('multipart(text/html)', 20),\n",
              " ('multipart(text/plain)', 19),\n",
              " ('multipart(multipart(text/html))', 5),\n",
              " ('multipart(text/plain, image/jpeg)', 3),\n",
              " ('multipart(text/html, application/octet-stream)', 2),\n",
              " ('multipart(text/plain, application/octet-stream)', 1),\n",
              " ('multipart(text/html, text/plain)', 1),\n",
              " ('multipart(multipart(text/html), application/octet-stream, image/jpeg)', 1),\n",
              " ('multipart(multipart(text/plain, text/html), image/gif)', 1),\n",
              " ('multipart/alternative', 1)]"
            ]
          },
          "metadata": {},
          "execution_count": 58
        }
      ]
    },
    {
      "cell_type": "markdown",
      "source": [
        "Parece que los correos electrónicos `no spam` son más a menudo texto plano, mientras que el spam tiene bastante HTML. Además, bastantes correos electrónicos de spam están firmados con PGP, mientras que ninguno lo está. En resumen, parece que la estructura del correo electrónico es una información útil."
      ],
      "metadata": {
        "id": "a5DD3xn2__8h"
      }
    },
    {
      "cell_type": "markdown",
      "source": [
        "###Headers"
      ],
      "metadata": {
        "id": "7calx2Or3KHT"
      }
    },
    {
      "cell_type": "markdown",
      "source": [
        "Ahora echemos un vistazo a las cabeceras del correo electrónico:"
      ],
      "metadata": {
        "id": "hgR9X0pfCbRg"
      }
    },
    {
      "cell_type": "code",
      "source": [
        "\"\"\"el código recorre los elementos del diccionario de encabezados del primer correo electrónico\n",
        "en la lista spam_emails\n",
        "e imprime cada encabezado junto con su valor correspondiente.\"\"\"\n",
        "for header, value in spam_emails[0].items():\n",
        "    print(header,\":\",value)"
      ],
      "metadata": {
        "colab": {
          "base_uri": "https://localhost:8080/"
        },
        "id": "THobNtYk_-tX",
        "outputId": "2de0cf2f-d160-422b-f805-b77f2ae7f4d0"
      },
      "execution_count": null,
      "outputs": [
        {
          "output_type": "stream",
          "name": "stdout",
          "text": [
            "Return-Path : <12a1mailbot1@web.de>\n",
            "Delivered-To : zzzz@localhost.spamassassin.taint.org\n",
            "Received : from localhost (localhost [127.0.0.1])\tby phobos.labs.spamassassin.taint.org (Postfix) with ESMTP id 136B943C32\tfor <zzzz@localhost>; Thu, 22 Aug 2002 08:17:21 -0400 (EDT)\n",
            "Received : from mail.webnote.net [193.120.211.219]\tby localhost with POP3 (fetchmail-5.9.0)\tfor zzzz@localhost (single-drop); Thu, 22 Aug 2002 13:17:21 +0100 (IST)\n",
            "Received : from dd_it7 ([210.97.77.167])\tby webnote.net (8.9.3/8.9.3) with ESMTP id NAA04623\tfor <zzzz@spamassassin.taint.org>; Thu, 22 Aug 2002 13:09:41 +0100\n",
            "From : 12a1mailbot1@web.de\n",
            "Received : from r-smtp.korea.com - 203.122.2.197 by dd_it7  with Microsoft SMTPSVC(5.5.1775.675.6);\t Sat, 24 Aug 2002 09:42:10 +0900\n",
            "To : dcek1a1@netsgo.com\n",
            "Subject : Life Insurance - Why Pay More?\n",
            "Date : Wed, 21 Aug 2002 20:31:57 -1600\n",
            "MIME-Version : 1.0\n",
            "Message-ID : <0103c1042001882DD_IT7@dd_it7>\n",
            "Content-Type : text/html; charset=\"iso-8859-1\"\n",
            "Content-Transfer-Encoding : quoted-printable\n"
          ]
        }
      ]
    },
    {
      "cell_type": "markdown",
      "source": [
        "Probablemente haya mucha información útil, como la dirección de correo electrónico del remitente (12a1mailbot1@web.de parece sospechosa), pero nos centraremos en la cabecera `Subject`:"
      ],
      "metadata": {
        "id": "c_iMRVZVGOb6"
      }
    },
    {
      "cell_type": "code",
      "source": [
        "\"\"\"el código recorre los elementos del diccionario de encabezados del primer correo electrónico\n",
        "en la lista ham_emails\n",
        "e imprime cada encabezado junto con su valor correspondiente.\"\"\"\n",
        "for header, value in ham_emails[0].items():\n",
        "    print(header,\":\",value)"
      ],
      "metadata": {
        "colab": {
          "base_uri": "https://localhost:8080/"
        },
        "id": "uB0gE4rJ2Xea",
        "outputId": "72b4f374-b001-4f1b-a63c-cd0285c4fd70"
      },
      "execution_count": null,
      "outputs": [
        {
          "output_type": "stream",
          "name": "stdout",
          "text": [
            "Return-Path : <exmh-workers-admin@spamassassin.taint.org>\n",
            "Delivered-To : zzzz@localhost.netnoteinc.com\n",
            "Received : from localhost (localhost [127.0.0.1])\tby phobos.labs.netnoteinc.com (Postfix) with ESMTP id D03E543C36\tfor <zzzz@localhost>; Thu, 22 Aug 2002 07:36:16 -0400 (EDT)\n",
            "Received : from phobos [127.0.0.1]\tby localhost with IMAP (fetchmail-5.9.0)\tfor zzzz@localhost (single-drop); Thu, 22 Aug 2002 12:36:16 +0100 (IST)\n",
            "Received : from listman.spamassassin.taint.org (listman.spamassassin.taint.org [66.187.233.211]) by    dogma.slashnull.org (8.11.6/8.11.6) with ESMTP id g7MBYrZ04811 for    <zzzz-exmh@spamassassin.taint.org>; Thu, 22 Aug 2002 12:34:53 +0100\n",
            "Received : from listman.spamassassin.taint.org (localhost.localdomain [127.0.0.1]) by    listman.redhat.com (Postfix) with ESMTP id 8386540858; Thu, 22 Aug 2002    07:35:02 -0400 (EDT)\n",
            "Delivered-To : exmh-workers@listman.spamassassin.taint.org\n",
            "Received : from int-mx1.corp.spamassassin.taint.org (int-mx1.corp.spamassassin.taint.org    [172.16.52.254]) by listman.redhat.com (Postfix) with ESMTP id 10CF8406D7    for <exmh-workers@listman.redhat.com>; Thu, 22 Aug 2002 07:34:10 -0400    (EDT)\n",
            "Received : (from mail@localhost) by int-mx1.corp.spamassassin.taint.org (8.11.6/8.11.6)    id g7MBY7g11259 for exmh-workers@listman.redhat.com; Thu, 22 Aug 2002    07:34:07 -0400\n",
            "Received : from mx1.spamassassin.taint.org (mx1.spamassassin.taint.org [172.16.48.31]) by    int-mx1.corp.redhat.com (8.11.6/8.11.6) with SMTP id g7MBY7Y11255 for    <exmh-workers@redhat.com>; Thu, 22 Aug 2002 07:34:07 -0400\n",
            "Received : from ratree.psu.ac.th ([202.28.97.6]) by mx1.spamassassin.taint.org    (8.11.6/8.11.6) with SMTP id g7MBIhl25223 for <exmh-workers@redhat.com>;    Thu, 22 Aug 2002 07:18:55 -0400\n",
            "Received : from delta.cs.mu.OZ.AU (delta.coe.psu.ac.th [172.30.0.98]) by    ratree.psu.ac.th (8.11.6/8.11.6) with ESMTP id g7MBWel29762;    Thu, 22 Aug 2002 18:32:40 +0700 (ICT)\n",
            "Received : from munnari.OZ.AU (localhost [127.0.0.1]) by delta.cs.mu.OZ.AU    (8.11.6/8.11.6) with ESMTP id g7MBQPW13260; Thu, 22 Aug 2002 18:26:25    +0700 (ICT)\n",
            "From : Robert Elz <kre@munnari.OZ.AU>\n",
            "To : Chris Garrigues <cwg-dated-1030377287.06fa6d@DeepEddy.Com>\n",
            "Cc : exmh-workers@spamassassin.taint.org\n",
            "Subject : Re: New Sequences Window\n",
            "In-Reply-To : <1029945287.4797.TMDA@deepeddy.vircio.com>\n",
            "References : <1029945287.4797.TMDA@deepeddy.vircio.com>    <1029882468.3116.TMDA@deepeddy.vircio.com> <9627.1029933001@munnari.OZ.AU>    <1029943066.26919.TMDA@deepeddy.vircio.com>    <1029944441.398.TMDA@deepeddy.vircio.com>\n",
            "MIME-Version : 1.0\n",
            "Content-Type : text/plain; charset=\"us-ascii\"\n",
            "Message-Id : <13258.1030015585@munnari.OZ.AU>\n",
            "X-Loop : exmh-workers@spamassassin.taint.org\n",
            "Sender : exmh-workers-admin@spamassassin.taint.org\n",
            "Errors-To : exmh-workers-admin@spamassassin.taint.org\n",
            "X-Beenthere : exmh-workers@spamassassin.taint.org\n",
            "X-Mailman-Version : 2.0.1\n",
            "Precedence : bulk\n",
            "List-Help : <mailto:exmh-workers-request@spamassassin.taint.org?subject=help>\n",
            "List-Post : <mailto:exmh-workers@spamassassin.taint.org>\n",
            "List-Subscribe : <https://listman.spamassassin.taint.org/mailman/listinfo/exmh-workers>,    <mailto:exmh-workers-request@redhat.com?subject=subscribe>\n",
            "List-Id : Discussion list for EXMH developers <exmh-workers.spamassassin.taint.org>\n",
            "List-Unsubscribe : <https://listman.spamassassin.taint.org/mailman/listinfo/exmh-workers>,    <mailto:exmh-workers-request@redhat.com?subject=unsubscribe>\n",
            "List-Archive : <https://listman.spamassassin.taint.org/mailman/private/exmh-workers/>\n",
            "Date : Thu, 22 Aug 2002 18:26:25 +0700\n"
          ]
        }
      ]
    },
    {
      "cell_type": "code",
      "source": [
        "spam_emails[0][\"Subject\"]"
      ],
      "metadata": {
        "colab": {
          "base_uri": "https://localhost:8080/",
          "height": 35
        },
        "id": "_gB_40C-GPzJ",
        "outputId": "4a483131-3df2-4509-bc73-17e0628a23b1"
      },
      "execution_count": null,
      "outputs": [
        {
          "output_type": "execute_result",
          "data": {
            "text/plain": [
              "'Life Insurance - Why Pay More?'"
            ],
            "application/vnd.google.colaboratory.intrinsic+json": {
              "type": "string"
            }
          },
          "metadata": {},
          "execution_count": 61
        }
      ]
    },
    {
      "cell_type": "markdown",
      "source": [
        "#Empezando"
      ],
      "metadata": {
        "id": "gsKf8bvX8qvB"
      }
    },
    {
      "cell_type": "markdown",
      "source": [
        "##Spliting dataset"
      ],
      "metadata": {
        "id": "JzbDq9ua7smq"
      }
    },
    {
      "cell_type": "markdown",
      "source": [
        "split it into a training set and a test set:"
      ],
      "metadata": {
        "id": "ArqImuRWGVeL"
      }
    },
    {
      "cell_type": "code",
      "source": [
        "import numpy as np\n",
        "from sklearn.model_selection import train_test_split"
      ],
      "metadata": {
        "id": "50IRMUtVGT58"
      },
      "execution_count": null,
      "outputs": []
    },
    {
      "cell_type": "code",
      "source": [
        "X = np.array(ham_emails + spam_emails, dtype=object)\n",
        "y = np.array([0] * len(ham_emails) + [1] * len(spam_emails))\n",
        "\n",
        "X_train, X_test, y_train, y_test = train_test_split(X, y, test_size=0.2, random_state=42)"
      ],
      "metadata": {
        "id": "MQNpm-dHHCEJ"
      },
      "execution_count": null,
      "outputs": []
    },
    {
      "cell_type": "markdown",
      "source": [
        "*funciones* de preprocesamiento.\n",
        "Primero, necesitaremos una función para convertir HTML a texto sin formato. Podría decirse que la mejor manera de hacer esto sería usar la gran biblioteca [BeautifulSoup](https://www.crummy.com/software/BeautifulSoup/), pero me gustaría evitar agregar otra dependencia a este proyecto, así que vamos a hackear una solución rápida y sucia usando expresiones regulares (a riesgo de [un̨ho͞ly radiańcé destro҉ying all enli̍̈́̂̈́ghtenment](https://stackoverflow.com/a/1732454/38626)). La siguiente función primero elimina la sección `<head>`, luego convierte todas las etiquetas `<a>` a la palabra HIPERVÍNCULO, luego elimina todas las etiquetas HTML, dejando solo el texto sin formato. Para mejorar la legibilidad, también reemplaza varias líneas nuevas con líneas nuevas únicas y, finalmente, elimina las entidades html (como `&gt;` o `&nbsp;`):"
      ],
      "metadata": {
        "id": "KU7tu5_MHJCu"
      }
    },
    {
      "cell_type": "markdown",
      "source": [
        "##Pre-procesado"
      ],
      "metadata": {
        "id": "6E4pUpbpBES-"
      }
    },
    {
      "cell_type": "code",
      "source": [
        "import re\n",
        "from html import unescape\n",
        "\n",
        "def html_to_plain_text(html):\n",
        "    # Elimina la sección <head> y su contenido\n",
        "    text = re.sub('<head.*?>.*?</head>', '', html, flags=re.M | re.S | re.I)\n",
        "\n",
        "    # Reemplaza las etiquetas <a> con el texto \"HYPERLINK\"\n",
        "    text = re.sub('<a\\s.*?>', ' HYPERLINK ', text, flags=re.M | re.S | re.I)\n",
        "\n",
        "    # Elimina todas las demás etiquetas HTML\n",
        "    text = re.sub('<.*?>', '', text, flags=re.M | re.S)\n",
        "\n",
        "    # Reemplaza múltiples saltos de línea y espacios en blanco con un solo salto de línea\n",
        "    text = re.sub(r'(\\s*\\n)+', '\\n', text, flags=re.M | re.S)\n",
        "\n",
        "    # Decodifica los caracteres HTML especiales en su forma original\n",
        "    return unescape(text)\n"
      ],
      "metadata": {
        "id": "BYUv2E2cHIQO"
      },
      "execution_count": null,
      "outputs": []
    },
    {
      "cell_type": "markdown",
      "source": [
        "Prueba con HTML spam:"
      ],
      "metadata": {
        "id": "O_lYxLnb9WEd"
      }
    },
    {
      "cell_type": "code",
      "source": [
        "html_spam_emails = [email for email in X_train[y_train==1]\n",
        "                    if get_email_structure(email) == \"text/html\"]\n",
        "sample_html_spam = html_spam_emails[7]\n",
        "print(sample_html_spam.get_content().strip()[:1000], \"...\")"
      ],
      "metadata": {
        "colab": {
          "base_uri": "https://localhost:8080/"
        },
        "id": "hYSMDKgOHReV",
        "outputId": "0a15a500-8b4f-4daa-8be3-0d46c1bb090f"
      },
      "execution_count": null,
      "outputs": [
        {
          "output_type": "stream",
          "name": "stdout",
          "text": [
            "<HTML><HEAD><TITLE></TITLE><META http-equiv=\"Content-Type\" content=\"text/html; charset=windows-1252\"><STYLE>A:link {TEX-DECORATION: none}A:active {TEXT-DECORATION: none}A:visited {TEXT-DECORATION: none}A:hover {COLOR: #0033ff; TEXT-DECORATION: underline}</STYLE><META content=\"MSHTML 6.00.2713.1100\" name=\"GENERATOR\"></HEAD>\n",
            "<BODY text=\"#000000\" vLink=\"#0033ff\" link=\"#0033ff\" bgColor=\"#CCCC99\"><TABLE borderColor=\"#660000\" cellSpacing=\"0\" cellPadding=\"0\" border=\"0\" width=\"100%\"><TR><TD bgColor=\"#CCCC99\" valign=\"top\" colspan=\"2\" height=\"27\">\n",
            "<font size=\"6\" face=\"Arial, Helvetica, sans-serif\" color=\"#660000\">\n",
            "<b>OTC</b></font></TD></TR><TR><TD height=\"2\" bgcolor=\"#6a694f\">\n",
            "<font size=\"5\" face=\"Times New Roman, Times, serif\" color=\"#FFFFFF\">\n",
            "<b>&nbsp;Newsletter</b></font></TD><TD height=\"2\" bgcolor=\"#6a694f\"><div align=\"right\"><font color=\"#FFFFFF\">\n",
            "<b>Discover Tomorrow's Winners&nbsp;</b></font></div></TD></TR><TR><TD height=\"25\" colspan=\"2\" bgcolor=\"#CCCC99\"><table width=\"100%\" border=\"0\"  ...\n"
          ]
        }
      ]
    },
    {
      "cell_type": "markdown",
      "source": [
        "Resultados después de parsear a plain text:"
      ],
      "metadata": {
        "id": "fiyGXloaHUZm"
      }
    },
    {
      "cell_type": "code",
      "source": [
        "print(html_to_plain_text(sample_html_spam.get_content())[:1000], \"...\")"
      ],
      "metadata": {
        "colab": {
          "base_uri": "https://localhost:8080/"
        },
        "id": "xnbYh8csHVxj",
        "outputId": "a306e46f-0515-4436-ff59-da690ddb2354"
      },
      "execution_count": null,
      "outputs": [
        {
          "output_type": "stream",
          "name": "stdout",
          "text": [
            "\n",
            "OTC\n",
            " Newsletter\n",
            "Discover Tomorrow's Winners \n",
            "For Immediate Release\n",
            "Cal-Bay (Stock Symbol: CBYI)\n",
            "Watch for analyst \"Strong Buy Recommendations\" and several advisory newsletters picking CBYI.  CBYI has filed to be traded on the OTCBB, share prices historically INCREASE when companies get listed on this larger trading exchange. CBYI is trading around 25 cents and should skyrocket to $2.66 - $3.25 a share in the near future.\n",
            "Put CBYI on your watch list, acquire a position TODAY.\n",
            "REASONS TO INVEST IN CBYI\n",
            "A profitable company and is on track to beat ALL earnings estimates!\n",
            "One of the FASTEST growing distributors in environmental & safety equipment instruments.\n",
            "Excellent management team, several EXCLUSIVE contracts.  IMPRESSIVE client list including the U.S. Air Force, Anheuser-Busch, Chevron Refining and Mitsubishi Heavy Industries, GE-Energy & Environmental Research.\n",
            "RAPIDLY GROWING INDUSTRY\n",
            "Industry revenues exceed $900 million, estimates indicate that there could be as much as $25 billi ...\n"
          ]
        }
      ]
    },
    {
      "cell_type": "markdown",
      "source": [
        "Genial. Ahora escribamos una función que tome un correo electrónico como entrada y devuelva su contenido como texto plano, sea cual sea su formato:"
      ],
      "metadata": {
        "id": "MZH6DbSDHd2O"
      }
    },
    {
      "cell_type": "code",
      "source": [
        "def email_to_text(email):\n",
        "    html = None\n",
        "\n",
        "    # Itera sobre cada parte del correo electrónico\n",
        "    for part in email.walk():\n",
        "        ctype = part.get_content_type()\n",
        "\n",
        "        # Verifica si el tipo de contenido es \"text/plain\" o \"text/html\"\n",
        "        if not ctype in (\"text/plain\", \"text/html\"):\n",
        "            continue\n",
        "\n",
        "        try:\n",
        "            # Obtiene el contenido de la parte\n",
        "            content = part.get_content()\n",
        "        except:  # en caso de problemas de codificación\n",
        "            content = str(part.get_payload())\n",
        "\n",
        "        # Si el tipo de contenido es \"text/plain\", retorna el contenido\n",
        "        if ctype == \"text/plain\":\n",
        "            return content\n",
        "        else:\n",
        "            # Si el tipo de contenido es \"text/html\", almacena el contenido HTML\n",
        "            html = content\n",
        "\n",
        "    # Si se encontró contenido HTML, convierte el HTML a texto plano\n",
        "    if html:\n",
        "        return html_to_plain_text(html)\n"
      ],
      "metadata": {
        "id": "BcFiNuVVHeC_"
      },
      "execution_count": null,
      "outputs": []
    },
    {
      "cell_type": "code",
      "source": [
        "print(email_to_text(sample_html_spam)[:100], \"...\")"
      ],
      "metadata": {
        "colab": {
          "base_uri": "https://localhost:8080/"
        },
        "id": "dkFb8xyoIB39",
        "outputId": "8ef66902-76c8-4e6d-8be8-39abaddac56f"
      },
      "execution_count": null,
      "outputs": [
        {
          "output_type": "stream",
          "name": "stdout",
          "text": [
            "\n",
            "OTC\n",
            " Newsletter\n",
            "Discover Tomorrow's Winners \n",
            "For Immediate Release\n",
            "Cal-Bay (Stock Symbol: CBYI)\n",
            "Wat ...\n"
          ]
        }
      ]
    },
    {
      "cell_type": "markdown",
      "source": [
        "### Steaming"
      ],
      "metadata": {
        "id": "kGtBX5iSBvBs"
      }
    },
    {
      "cell_type": "code",
      "source": [
        "try:\n",
        "    import nltk\n",
        "\n",
        "    # Importa el módulo NLTK y crea una instancia de PorterStemmer\n",
        "    stemmer = nltk.PorterStemmer()\n",
        "\n",
        "    # Itera sobre una lista de palabras para realizar el stemming\n",
        "    for word in (\"Computations\", \"Computation\", \"Computing\", \"Computed\", \"Compute\", \"Compulsive\"):\n",
        "        # Aplica el stemming a cada palabra y muestra el resultado\n",
        "        print(word, \"=>\", stemmer.stem(word))\n",
        "except ImportError:\n",
        "    # Si ocurre un error de importación, muestra un mensaje de error\n",
        "    print(\"Error: stemming requires the NLTK module.\")\n",
        "    stemmer = None\n"
      ],
      "metadata": {
        "colab": {
          "base_uri": "https://localhost:8080/"
        },
        "id": "cCAmiDSaIJK3",
        "outputId": "8daebe55-70b4-411e-c764-bab82b913aa0"
      },
      "execution_count": null,
      "outputs": [
        {
          "output_type": "stream",
          "name": "stdout",
          "text": [
            "Computations => comput\n",
            "Computation => comput\n",
            "Computing => comput\n",
            "Computed => comput\n",
            "Compute => comput\n",
            "Compulsive => compuls\n"
          ]
        }
      ]
    },
    {
      "cell_type": "markdown",
      "source": [
        "También necesitaremos una forma de reemplazar URLs con la palabra \"URL\". Para esto, podríamos usar [regular expressions](https://mathiasbynens.be/demo/url-regex) pero usaremos la librería [urlextract](https://github.com/lipoja/URLExtract). Puedes instalarla con el siguiente comando (no olvides activar tu virtualenv primero; si no tienes uno, probablemente necesitarás derechos de administrador, o usar la opción `--user`):"
      ],
      "metadata": {
        "id": "2-3ldIZiIO75"
      }
    },
    {
      "cell_type": "code",
      "source": [
        "%pip install -q -U urlextract"
      ],
      "metadata": {
        "id": "BzzcwSDuIP3Q"
      },
      "execution_count": null,
      "outputs": []
    },
    {
      "cell_type": "code",
      "source": [
        "try:\n",
        "    import urlextract\n",
        "\n",
        "    # Importa el módulo urlextract y crea una instancia de URLExtract\n",
        "    url_extractor = urlextract.URLExtract()\n",
        "\n",
        "    # Aplica el extractor de URL a un texto de ejemplo\n",
        "    extracted_urls = url_extractor.find_urls(\"Will it detect github.com and https://youtu.be/7Pq-S557XQU?t=3m32s\")\n",
        "\n",
        "    # Imprime las URL extraídas\n",
        "    print(extracted_urls)\n",
        "except ImportError:\n",
        "    # Si ocurre un error de importación, muestra un mensaje de error\n",
        "    print(\"Error: replacing URLs requires the urlextract module.\")\n",
        "    url_extractor = None\n"
      ],
      "metadata": {
        "colab": {
          "base_uri": "https://localhost:8080/"
        },
        "id": "ghIH8H3pIahS",
        "outputId": "a4f1a985-f609-4795-fe40-f16c8360a488"
      },
      "execution_count": null,
      "outputs": [
        {
          "output_type": "stream",
          "name": "stdout",
          "text": [
            "['github.com', 'https://youtu.be/7Pq-S557XQU?t=3m32s']\n"
          ]
        }
      ]
    },
    {
      "cell_type": "markdown",
      "source": [
        "Estamos listos para juntar todo esto en un transformer que usaremos para convertir correos electrónicos en contadores de palabras. Tenga en cuenta que dividimos las frases en palabras utilizando el método `split()` de Python, que utiliza espacios en blanco para los límites de las palabras. Esto funciona para muchos idiomas escritos, pero no para todos. Por ejemplo, las escrituras chinas y japonesas generalmente no usan espacios entre palabras, y el vietnamita a menudo usa espacios incluso entre sílabas. En este ejercicio no hay problema, porque el conjunto de datos está (en su mayoría) en inglés."
      ],
      "metadata": {
        "id": "Lacpe1UKIeKn"
      }
    },
    {
      "cell_type": "markdown",
      "source": [
        "###Transformer"
      ],
      "metadata": {
        "id": "U_7-n6PeGgAp"
      }
    },
    {
      "cell_type": "markdown",
      "source": [
        "EmailToWordCounterTransformer, hereda de las clases `BaseEstimator` y `TransformerMixin` del paquete sklearn.base. Esta clase es un transformador personalizado que se puede usar en un pipeline de Scikit-Learn para preprocesar correos electrónicos."
      ],
      "metadata": {
        "id": "BKatiGZQVx0p"
      }
    },
    {
      "cell_type": "code",
      "source": [
        "from sklearn.base import BaseEstimator, TransformerMixin\n",
        "\n",
        "class EmailToWordCounterTransformer(BaseEstimator, TransformerMixin):\n",
        "    def __init__(self, strip_headers=True, lower_case=True, remove_punctuation=True,\n",
        "                 replace_urls=True, replace_numbers=True, stemming=True):\n",
        "        # Inicializa los parámetros del transformador\n",
        "        self.strip_headers = strip_headers\n",
        "        self.lower_case = lower_case\n",
        "        self.remove_punctuation = remove_punctuation\n",
        "        self.replace_urls = replace_urls\n",
        "        self.replace_numbers = replace_numbers\n",
        "        self.stemming = stemming\n",
        "\n",
        "    def fit(self, X, y=None):\n",
        "        # No se requiere ajuste, simplemente retorna el objeto transformador\n",
        "        return self\n",
        "\n",
        "    def transform(self, X, y=None):\n",
        "        # Transforma los datos de entrada X\n",
        "        X_transformed = []\n",
        "\n",
        "        # Itera sobre cada correo electrónico en X\n",
        "        for email in X:\n",
        "            # Convierte el correo electrónico en texto plano utilizando la función email_to_text\n",
        "            text = email_to_text(email) or \"\"\n",
        "\n",
        "            # Aplica las transformaciones especificadas en los parámetros del transformador\n",
        "            if self.lower_case:\n",
        "                text = text.lower()\n",
        "\n",
        "            if self.replace_urls and url_extractor is not None:\n",
        "                # Reemplaza las URLs por la palabra \"URL\" si la opción replace_urls está habilitada y el extractor de URL está disponible\n",
        "                urls = list(set(url_extractor.find_urls(text)))\n",
        "                urls.sort(key=lambda url: len(url), reverse=True)\n",
        "                for url in urls:\n",
        "                    text = text.replace(url, \" URL \")\n",
        "\n",
        "            if self.replace_numbers:\n",
        "                # Reemplaza los números por la palabra \"NUMBER\" si la opción replace_numbers está habilitada\n",
        "                text = re.sub(r'\\d+(?:\\.\\d*)?(?:[eE][+-]?\\d+)?', 'NUMBER', text)\n",
        "\n",
        "            if self.remove_punctuation:\n",
        "                # Elimina la puntuación si la opción remove_punctuation está habilitada\n",
        "                text = re.sub(r'\\W+', ' ', text, flags=re.M)\n",
        "\n",
        "            # Cuenta la frecuencia de las palabras en el texto\n",
        "            word_counts = Counter(text.split())\n",
        "\n",
        "            if self.stemming and stemmer is not None:\n",
        "                # Realiza stemming en las palabras si la opción stemming está habilitada y el objeto stemmer está disponible\n",
        "                stemmed_word_counts = Counter()\n",
        "                for word, count in word_counts.items():\n",
        "                    stemmed_word = stemmer.stem(word)\n",
        "                    stemmed_word_counts[stemmed_word] += count\n",
        "                word_counts = stemmed_word_counts\n",
        "\n",
        "            # Agrega las cuentas de palabras transformadas a la lista de resultados\n",
        "            X_transformed.append(word_counts)\n",
        "\n",
        "        # Retorna los datos transformados en forma de matriz numpy\n",
        "        return np.array(X_transformed)\n"
      ],
      "metadata": {
        "id": "UmKhQsSuGZxs"
      },
      "execution_count": null,
      "outputs": []
    },
    {
      "cell_type": "markdown",
      "source": [
        "### Prueba"
      ],
      "metadata": {
        "id": "05b1svK5GmZg"
      }
    },
    {
      "cell_type": "markdown",
      "source": [
        "*Probemos este transformador en algunos correos:*"
      ],
      "metadata": {
        "id": "r64FZowQI2TE"
      }
    },
    {
      "cell_type": "code",
      "source": [
        "X_few = X_train[:3]\n",
        "X_few_wordcounts = EmailToWordCounterTransformer().fit_transform(X_few)\n",
        "X_few_wordcounts"
      ],
      "metadata": {
        "colab": {
          "base_uri": "https://localhost:8080/"
        },
        "id": "h4BG_OeGJD_W",
        "outputId": "8db9c51f-ae84-4084-dad1-18bbb48445de"
      },
      "execution_count": null,
      "outputs": [
        {
          "output_type": "execute_result",
          "data": {
            "text/plain": [
              "array([Counter({'chuck': 1, 'murcko': 1, 'wrote': 1, 'stuff': 1, 'yawn': 1, 'r': 1}),\n",
              "       Counter({'the': 11, 'of': 9, 'and': 8, 'all': 3, 'christian': 3, 'to': 3, 'by': 3, 'jefferson': 2, 'i': 2, 'have': 2, 'superstit': 2, 'one': 2, 'on': 2, 'been': 2, 'ha': 2, 'half': 2, 'rogueri': 2, 'teach': 2, 'jesu': 2, 'some': 1, 'interest': 1, 'quot': 1, 'url': 1, 'thoma': 1, 'examin': 1, 'known': 1, 'word': 1, 'do': 1, 'not': 1, 'find': 1, 'in': 1, 'our': 1, 'particular': 1, 'redeem': 1, 'featur': 1, 'they': 1, 'are': 1, 'alik': 1, 'found': 1, 'fabl': 1, 'mytholog': 1, 'million': 1, 'innoc': 1, 'men': 1, 'women': 1, 'children': 1, 'sinc': 1, 'introduct': 1, 'burnt': 1, 'tortur': 1, 'fine': 1, 'imprison': 1, 'what': 1, 'effect': 1, 'thi': 1, 'coercion': 1, 'make': 1, 'world': 1, 'fool': 1, 'other': 1, 'hypocrit': 1, 'support': 1, 'error': 1, 'over': 1, 'earth': 1, 'six': 1, 'histor': 1, 'american': 1, 'john': 1, 'e': 1, 'remsburg': 1, 'letter': 1, 'william': 1, 'short': 1, 'again': 1, 'becom': 1, 'most': 1, 'pervert': 1, 'system': 1, 'that': 1, 'ever': 1, 'shone': 1, 'man': 1, 'absurd': 1, 'untruth': 1, 'were': 1, 'perpetr': 1, 'upon': 1, 'a': 1, 'larg': 1, 'band': 1, 'dupe': 1, 'import': 1, 'led': 1, 'paul': 1, 'first': 1, 'great': 1, 'corrupt': 1}),\n",
              "       Counter({'url': 4, 's': 3, 'group': 3, 'to': 3, 'in': 2, 'forteana': 2, 'martin': 2, 'an': 2, 'and': 2, 'we': 2, 'is': 2, 'yahoo': 2, 'unsubscrib': 2, 'y': 1, 'adamson': 1, 'wrote': 1, 'for': 1, 'altern': 1, 'rather': 1, 'more': 1, 'factual': 1, 'base': 1, 'rundown': 1, 'on': 1, 'hamza': 1, 'career': 1, 'includ': 1, 'hi': 1, 'belief': 1, 'that': 1, 'all': 1, 'non': 1, 'muslim': 1, 'yemen': 1, 'should': 1, 'be': 1, 'murder': 1, 'outright': 1, 'know': 1, 'how': 1, 'unbias': 1, 'memri': 1, 'don': 1, 't': 1, 'html': 1, 'rob': 1, 'sponsor': 1, 'number': 1, 'dvd': 1, 'free': 1, 'p': 1, 'join': 1, 'now': 1, 'from': 1, 'thi': 1, 'send': 1, 'email': 1, 'egroup': 1, 'com': 1, 'your': 1, 'use': 1, 'of': 1, 'subject': 1})],\n",
              "      dtype=object)"
            ]
          },
          "metadata": {},
          "execution_count": 36
        }
      ]
    },
    {
      "cell_type": "markdown",
      "source": [
        "Ahora tenemos el recuento de palabras y necesitamos convertirlo en vectores. Para ello, construiremos otro transformador cuyo método `fit()` construirá el vocabulario (una lista ordenada de las palabras más comunes) y cuyo método `transform()` utilizará el vocabulario para convertir los recuentos de palabras en vectores. El resultado es una matriz dispersa."
      ],
      "metadata": {
        "id": "D_gzA73_JIjS"
      }
    },
    {
      "cell_type": "code",
      "source": [
        "from scipy.sparse import csr_matrix\n",
        "\n",
        "class WordCounterToVectorTransformer(BaseEstimator, TransformerMixin):\n",
        "    def __init__(self, vocabulary_size=1000):\n",
        "        # Inicializa el tamaño del vocabulario\n",
        "        self.vocabulary_size = vocabulary_size\n",
        "\n",
        "    def fit(self, X, y=None):\n",
        "        # Cuenta la frecuencia total de las palabras en los datos de entrada X\n",
        "        total_count = Counter()\n",
        "        for word_count in X:\n",
        "            for word, count in word_count.items():\n",
        "                total_count[word] += min(count, 10)\n",
        "\n",
        "        # Obtiene las palabras más comunes hasta el tamaño del vocabulario\n",
        "        most_common = total_count.most_common()[:self.vocabulary_size]\n",
        "\n",
        "        # Crea un diccionario de vocabulario asignando un índice a cada palabra\n",
        "        self.vocabulary_ = {word: index + 1 for index, (word, count) in enumerate(most_common)}\n",
        "\n",
        "        # Retorna el objeto transformador\n",
        "        return self\n",
        "\n",
        "    def transform(self, X, y=None):\n",
        "        # Construye una matriz dispersa comprimida (CSR matrix) a partir de los datos transformados\n",
        "        rows = []\n",
        "        cols = []\n",
        "        data = []\n",
        "        for row, word_count in enumerate(X):\n",
        "            for word, count in word_count.items():\n",
        "                rows.append(row)\n",
        "                cols.append(self.vocabulary_.get(word, 0))\n",
        "                data.append(count)\n",
        "\n",
        "        # Crea una matriz dispersa comprimida (CSR matrix) con los datos y la forma adecuada\n",
        "        return csr_matrix((data, (rows, cols)), shape=(len(X), self.vocabulary_size + 1))\n"
      ],
      "metadata": {
        "id": "8YQyrT1MJJQV"
      },
      "execution_count": null,
      "outputs": []
    },
    {
      "cell_type": "code",
      "source": [
        "\"\"\"\n",
        "utiliza una instancia del transformador WordCounterToVectorTransformer para\n",
        " transformar los recuentos de palabras X_few_wordcounts en una representación\n",
        " vectorial utilizando un tamaño de vocabulario de 10.\"\"\"\n",
        "\n",
        "vocab_transformer = WordCounterToVectorTransformer(vocabulary_size=10)\n",
        "X_few_vectors = vocab_transformer.fit_transform(X_few_wordcounts)\n",
        "X_few_vectors"
      ],
      "metadata": {
        "colab": {
          "base_uri": "https://localhost:8080/"
        },
        "id": "SOrt03J8JRpT",
        "outputId": "8299dfd1-d8a3-4270-9a43-65de5cc985a0"
      },
      "execution_count": null,
      "outputs": [
        {
          "output_type": "execute_result",
          "data": {
            "text/plain": [
              "<3x11 sparse matrix of type '<class 'numpy.int64'>'\n",
              "\twith 20 stored elements in Compressed Sparse Row format>"
            ]
          },
          "metadata": {},
          "execution_count": 38
        }
      ]
    },
    {
      "cell_type": "code",
      "source": [
        "\"\"\"\n",
        "´X_few_vectors.toarray():´ Llama al método toarray() en la matriz dispersa X_few_vectors para convertirla en una matriz densa,\n",
        "que es una representación estándar de una matriz en la que todos los elementos se almacenan en memoria.\n",
        "El resultado es una matriz densa que contiene la representación vectorial de los datos X_few_wordcounts.\n",
        "\"\"\"\n",
        "X_few_vectors.toarray()"
      ],
      "metadata": {
        "colab": {
          "base_uri": "https://localhost:8080/"
        },
        "id": "IHcO6WO7JTfy",
        "outputId": "30667c6d-b7a5-43c4-81bb-6e51d6b1841b"
      },
      "execution_count": null,
      "outputs": [
        {
          "output_type": "execute_result",
          "data": {
            "text/plain": [
              "array([[ 6,  0,  0,  0,  0,  0,  0,  0,  0,  0,  0],\n",
              "       [99, 11,  9,  8,  3,  1,  3,  1,  3,  2,  3],\n",
              "       [67,  0,  1,  2,  3,  4,  1,  2,  0,  1,  0]])"
            ]
          },
          "metadata": {},
          "execution_count": 39
        }
      ]
    },
    {
      "cell_type": "markdown",
      "source": [
        "¿Qué significa esta matriz?\n",
        "\n",
        "1.   Bien, el 99 de la segunda fila, primera columna,forman parte del vocabulario.\n",
        "2.     El 11 al lado significa que la primera palabra del vocabulario está presente 11 veces en este correo electrónico.\n",
        "3.   El 9 al lado significa que la segunda palabra está presente 9 veces, y así sucesivamente.\n",
        "Puedes consultar el vocabulario para saber de qué palabras estamos hablando. La primera palabra es \"the\", la segunda palabra es \"of\", etc."
      ],
      "metadata": {
        "id": "2hEYpPmlJVro"
      }
    },
    {
      "cell_type": "code",
      "source": [
        "\"\"\"\n",
        "Devuelve el diccionario de vocabulario creado por el transformador WordCounterToVectorTransformer durante el ajuste.\n",
        "Proporciona una asignación de palabras a índices en la representación vectorial.\n",
        "\"\"\"\n",
        "vocab_transformer.vocabulary_"
      ],
      "metadata": {
        "colab": {
          "base_uri": "https://localhost:8080/"
        },
        "id": "KclzprwWJYPs",
        "outputId": "ce1bf134-3c3a-4c04-d32d-21730fb73d2c"
      },
      "execution_count": null,
      "outputs": [
        {
          "output_type": "execute_result",
          "data": {
            "text/plain": [
              "{'the': 1,\n",
              " 'of': 2,\n",
              " 'and': 3,\n",
              " 'to': 4,\n",
              " 'url': 5,\n",
              " 'all': 6,\n",
              " 'in': 7,\n",
              " 'christian': 8,\n",
              " 'on': 9,\n",
              " 'by': 10}"
            ]
          },
          "metadata": {},
          "execution_count": 40
        }
      ]
    },
    {
      "cell_type": "markdown",
      "source": [
        "##Entrenamieto"
      ],
      "metadata": {
        "id": "QvFj57DRI6Lu"
      }
    },
    {
      "cell_type": "markdown",
      "source": [
        "Ya estamos listos para entrenar nuestro primer clasificador de spam. Transformemos todo el conjunto de datos:"
      ],
      "metadata": {
        "id": "NqVpcuu9Jb-w"
      }
    },
    {
      "cell_type": "markdown",
      "source": [
        "\n",
        "El código que proporcionaste utiliza la clase `Pipeline` de scikit-learn para crear un pipeline de procesamiento de datos que incluye dos transformadores: `EmailToWordCounterTransformer` y `WordCounterToVectorTransformer`. Luego, se aplica el pipeline al conjunto de entrenamiento `X_train` para obtener los datos transformados `X_train_transformed`."
      ],
      "metadata": {
        "id": "UPTVlVMqJf8y"
      }
    },
    {
      "cell_type": "code",
      "source": [
        "from sklearn.pipeline import Pipeline\n",
        "\n",
        "# Crea un pipeline de procesamiento de datos con los transformadores EmailToWordCounterTransformer y WordCounterToVectorTransformer\n",
        "preprocess_pipeline = Pipeline([\n",
        "    (\"email_to_wordcount\", EmailToWordCounterTransformer()),  # Transformador 1: EmailToWordCounterTransformer\n",
        "    (\"wordcount_to_vector\", WordCounterToVectorTransformer()),  # Transformador 2: WordCounterToVectorTransformer\n",
        "])\n",
        "\n",
        "# Aplica el pipeline al conjunto de entrenamiento X_train\n",
        "X_train_transformed = preprocess_pipeline.fit_transform(X_train)\n"
      ],
      "metadata": {
        "id": "BzrDmUSFJbDJ"
      },
      "execution_count": null,
      "outputs": []
    },
    {
      "cell_type": "markdown",
      "source": [
        "Nota: para estar preparados para el futuro, establecemos `solver=\"lbfgs\"` ya que este será el valor por defecto en Scikit-Learn 0.22.\n",
        "--- ---\n",
        "\n"
      ],
      "metadata": {
        "id": "WnfJ9gt5Jlb-"
      }
    },
    {
      "cell_type": "markdown",
      "source": [],
      "metadata": {
        "id": "T3yQ5AftIzzD"
      }
    },
    {
      "cell_type": "markdown",
      "source": [
        "##Resultados"
      ],
      "metadata": {
        "id": "eVqYb205Kf_i"
      }
    },
    {
      "cell_type": "code",
      "source": [
        "from sklearn.linear_model import LogisticRegression\n",
        "from sklearn.model_selection import cross_val_score\n",
        "\n",
        "# Crea una instancia del clasificador LogisticRegression\n",
        "log_clf = LogisticRegression(solver=\"lbfgs\", max_iter=1000, random_state=42)\n",
        "\n",
        "# Realiza validación cruzada en los datos transformados y las etiquetas\n",
        "score = cross_val_score(log_clf, X_train_transformed, y_train, cv=3, verbose=3)\n",
        "\n",
        "# Calcula el promedio de las puntuaciones obtenidas en la validación cruzada\n",
        "score.mean()\n"
      ],
      "metadata": {
        "colab": {
          "base_uri": "https://localhost:8080/"
        },
        "id": "eTn2tZY8J1kR",
        "outputId": "f5936815-e74f-473a-992a-c803a038aa23"
      },
      "execution_count": null,
      "outputs": [
        {
          "output_type": "stream",
          "name": "stderr",
          "text": [
            "[Parallel(n_jobs=1)]: Using backend SequentialBackend with 1 concurrent workers.\n",
            "[Parallel(n_jobs=1)]: Done   1 out of   1 | elapsed:    0.2s remaining:    0.0s\n"
          ]
        },
        {
          "output_type": "stream",
          "name": "stdout",
          "text": [
            "[CV] END ................................ score: (test=0.981) total time=   0.2s\n",
            "[CV] END ................................ score: (test=0.984) total time=   0.2s\n"
          ]
        },
        {
          "output_type": "stream",
          "name": "stderr",
          "text": [
            "[Parallel(n_jobs=1)]: Done   2 out of   2 | elapsed:    0.3s remaining:    0.0s\n"
          ]
        },
        {
          "output_type": "stream",
          "name": "stdout",
          "text": [
            "[CV] END ................................ score: (test=0.990) total time=   0.3s\n"
          ]
        },
        {
          "output_type": "stream",
          "name": "stderr",
          "text": [
            "[Parallel(n_jobs=1)]: Done   3 out of   3 | elapsed:    0.6s finished\n"
          ]
        },
        {
          "output_type": "execute_result",
          "data": {
            "text/plain": [
              "0.985"
            ]
          },
          "metadata": {},
          "execution_count": 42
        }
      ]
    },
    {
      "cell_type": "code",
      "source": [
        "score.mean()"
      ],
      "metadata": {
        "colab": {
          "base_uri": "https://localhost:8080/"
        },
        "id": "IfiPhxREaHX5",
        "outputId": "6ecc00e1-56d7-4c90-e359-51893684d7b9"
      },
      "execution_count": null,
      "outputs": [
        {
          "output_type": "execute_result",
          "data": {
            "text/plain": [
              "0.985"
            ]
          },
          "metadata": {},
          "execution_count": 44
        }
      ]
    },
    {
      "cell_type": "markdown",
      "source": [],
      "metadata": {
        "id": "0NxBPbeLJ5oJ"
      }
    },
    {
      "cell_type": "code",
      "source": [
        "from sklearn.metrics import precision_score, recall_score\n",
        "\n",
        "# Transforma los datos de prueba utilizando el pipeline de preprocesamiento\n",
        "X_test_transformed = preprocess_pipeline.transform(X_test)\n",
        "\n",
        "# Crea una instancia del clasificador LogisticRegression\n",
        "log_clf = LogisticRegression(solver=\"lbfgs\", max_iter=1000, random_state=42)\n",
        "\n",
        "# Ajusta el clasificador a los datos de entrenamiento transformados\n",
        "log_clf.fit(X_train_transformed, y_train)\n",
        "\n",
        "# Realiza predicciones en los datos de prueba transformados\n",
        "y_pred = log_clf.predict(X_test_transformed)\n",
        "\n",
        "# Calcula y muestra la precisión y la recuperación\n",
        "print(\"Precision: {:.2f}%\".format(100 * precision_score(y_test, y_pred)))\n",
        "print(\"Recall: {:.2f}%\".format(100 * recall_score(y_test, y_pred)))\n"
      ],
      "metadata": {
        "colab": {
          "base_uri": "https://localhost:8080/"
        },
        "id": "dPwyXByGJ7eG",
        "outputId": "ca5be695-f477-4507-d857-9c0be86de48c"
      },
      "execution_count": null,
      "outputs": [
        {
          "output_type": "stream",
          "name": "stdout",
          "text": [
            "Precision: 96.88%\n",
            "Recall: 97.89%\n"
          ]
        }
      ]
    }
  ]
}